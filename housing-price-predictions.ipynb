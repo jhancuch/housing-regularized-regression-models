{
 "cells": [
  {
   "cell_type": "markdown",
   "id": "32cb3108-a3ea-442c-b1d0-e0a10316abee",
   "metadata": {},
   "source": [
    "# EDA and Modeling of Housing Prices in Ames, IA Using Reg"
   ]
  },
  {
   "cell_type": "markdown",
   "id": "0a2dd419-96fa-4d66-8286-0586de42d442",
   "metadata": {},
   "source": [
    "##"
   ]
  },
  {
   "cell_type": "markdown",
   "id": "d2cd0015-4dee-4f79-84fe-ff9a552731ca",
   "metadata": {},
   "source": [
    "##"
   ]
  },
  {
   "cell_type": "markdown",
   "id": "fa97910a-ba37-4a8a-86f5-ef5041b3a7a7",
   "metadata": {},
   "source": [
    "##"
   ]
  },
  {
   "cell_type": "markdown",
   "id": "303924ae-72d8-46de-ade2-3251f40b6bde",
   "metadata": {},
   "source": [
    "##"
   ]
  },
  {
   "cell_type": "markdown",
   "id": "14a3f89a-15ae-4058-96ce-b29b58eaaf0f",
   "metadata": {},
   "source": [
    "##"
   ]
  },
  {
   "cell_type": "code",
   "execution_count": null,
   "id": "44348031-8cc1-46c6-853c-3d69c8e45e72",
   "metadata": {},
   "outputs": [],
   "source": []
  }
 ],
 "metadata": {
  "kernelspec": {
   "display_name": "Python 3 (ipykernel)",
   "language": "python",
   "name": "python3"
  },
  "language_info": {
   "codemirror_mode": {
    "name": "ipython",
    "version": 3
   },
   "file_extension": ".py",
   "mimetype": "text/x-python",
   "name": "python",
   "nbconvert_exporter": "python",
   "pygments_lexer": "ipython3",
   "version": "3.9.7"
  }
 },
 "nbformat": 4,
 "nbformat_minor": 5
}
